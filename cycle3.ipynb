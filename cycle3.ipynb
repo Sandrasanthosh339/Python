{
  "nbformat": 4,
  "nbformat_minor": 0,
  "metadata": {
    "colab": {
      "name": "cycle3.ipynb",
      "provenance": []
    },
    "kernelspec": {
      "display_name": "Python 3",
      "name": "python3"
    }
  },
  "cells": [
    {
      "cell_type": "code",
      "metadata": {
        "id": "8A79H8L2oiiD"
      },
      "source": [
        "#1\r\n",
        "num = int(input())\r\n",
        "factorial = 1\r\n",
        "if num < 0:\r\n",
        "    print(\"Sorry, factorial does not exist for negative numbers\")\r\n",
        "elif num == 0:\r\n",
        "    print(\"The factorial of 0 is 1\")\r\n",
        "else:\r\n",
        "    for i in range(1,num + 1):\r\n",
        "        factorial = factorial*i\r\n",
        "    print(\"The factorial of\",num,\"is\",factorial)  "
      ],
      "execution_count": null,
      "outputs": []
    },
    {
      "cell_type": "code",
      "metadata": {
        "id": "uQL9kMeZtSDI"
      },
      "source": [
        "#2\r\n",
        "nterms = int(input(\"How many terms? \"))\r\n",
        "n1, n2 = 0, 1\r\n",
        "count = 0\r\n",
        "if nterms <= 0:\r\n",
        "   print(\"Please enter a positive integer\")\r\n",
        "elif nterms == 1:\r\n",
        "   print(\"Fibonacci sequence upto\",nterms,\":\")\r\n",
        "   print(n1)\r\n",
        "else:\r\n",
        "   print(\"Fibonacci sequence:\")\r\n",
        "   while count < nterms:\r\n",
        "       print(n1)\r\n",
        "       nth = n1 + n2\r\n",
        "       n1 = n2\r\n",
        "       n2 = nth\r\n",
        "       count += 1"
      ],
      "execution_count": null,
      "outputs": []
    },
    {
      "cell_type": "code",
      "metadata": {
        "colab": {
          "base_uri": "https://localhost:8080/"
        },
        "id": "hraUauJmsm-8",
        "outputId": "1b059487-fbe1-40d9-dde8-9a24619d43fe"
      },
      "source": [
        "#3\r\n",
        "total = 0\r\n",
        "list1 = [11, 5, 17, 18, 23] \r\n",
        "for ele in range(0, len(list1)):\r\n",
        "    \ttotal = total + list1[ele]\r\n",
        "print(\"Sum of all elements in given list: \", total)\r\n",
        "\t\r\n"
      ],
      "execution_count": null,
      "outputs": [
        {
          "output_type": "stream",
          "text": [
            "Sum of all elements in given list:  74\n"
          ],
          "name": "stdout"
        }
      ]
    },
    {
      "cell_type": "code",
      "metadata": {
        "colab": {
          "base_uri": "https://localhost:8080/"
        },
        "id": "X8qeUCr_so1A",
        "outputId": "0a93b978-d64a-4292-c4c7-df00aac04161"
      },
      "source": [
        "#4\r\n",
        "def perfectSquares(l, r): \r\n",
        "    for i in range(l, r + 1): \r\n",
        "      if (i**(.5) == int(i**(.5))): \r\n",
        "        print(i, end=\" \") \r\n",
        "l = 2\r\n",
        "r = 24\r\n",
        "perfectSquares(l, r) \r\n",
        "\r\n"
      ],
      "execution_count": null,
      "outputs": [
        {
          "output_type": "stream",
          "text": [
            "4 9 16 "
          ],
          "name": "stdout"
        }
      ]
    },
    {
      "cell_type": "code",
      "metadata": {
        "id": "gmT8LpCOuNVi"
      },
      "source": [
        "#5\r\n",
        "rows = 6\r\n",
        "for num in range(rows):\r\n",
        "    for i in range(num):\r\n",
        "        print(num, end=\" \")  \r\n",
        "    print(\" \")\r\n"
      ],
      "execution_count": null,
      "outputs": []
    },
    {
      "cell_type": "code",
      "metadata": {
        "colab": {
          "base_uri": "https://localhost:8080/"
        },
        "id": "D2gAGHQ2jO8-",
        "outputId": "57195f15-8a9e-45fb-e696-66acf2a371ce"
      },
      "source": [
        "#6\r\n",
        "test_str = \"sandra\"\r\n",
        "all_freq = {} \r\n",
        "  \r\n",
        "for i in test_str: \r\n",
        "    if i in all_freq: \r\n",
        "        all_freq[i] += 1\r\n",
        "    else: \r\n",
        "        all_freq[i] = 1\r\n",
        "  \r\n",
        "# printing result  \r\n",
        "print (\"Count of all characters in sandra is :\\n \"\r\n",
        "                                        +  str(all_freq)) "
      ],
      "execution_count": null,
      "outputs": [
        {
          "output_type": "stream",
          "text": [
            "Count of all characters in sandra is :\n",
            " {'s': 1, 'a': 2, 'n': 1, 'd': 1, 'r': 1}\n"
          ],
          "name": "stdout"
        }
      ]
    },
    {
      "cell_type": "code",
      "metadata": {
        "colab": {
          "base_uri": "https://localhost:8080/"
        },
        "id": "5Y2nGk-MjPJl",
        "outputId": "ca36f44f-8fee-4445-c586-f162154e79db"
      },
      "source": [
        "#7\r\n",
        "def add_string(str1):\r\n",
        "  length = len(str1)\r\n",
        "\r\n",
        "  if length > 2:\r\n",
        "    if str1[-3:] == 'ing':\r\n",
        "      str1 += 'ly'\r\n",
        "    else:\r\n",
        "      str1 += 'ing'\r\n",
        "\r\n",
        "  return str1\r\n",
        "print(add_string('ab'))\r\n",
        "print(add_string('abc'))\r\n",
        "print(add_string('string'))\r\n"
      ],
      "execution_count": null,
      "outputs": [
        {
          "output_type": "stream",
          "text": [
            "ab\n",
            "abcing\n",
            "stringly\n"
          ],
          "name": "stdout"
        }
      ]
    },
    {
      "cell_type": "code",
      "metadata": {
        "colab": {
          "base_uri": "https://localhost:8080/"
        },
        "id": "vN770spsjPPo",
        "outputId": "e6c06c3f-d011-4834-8c70-d6dad203516b"
      },
      "source": [
        "#8\r\n",
        "def find_longest_word(words_list):\r\n",
        "    word_len = []\r\n",
        "    for n in words_list:\r\n",
        "        word_len.append((len(n), n))\r\n",
        "    word_len.sort()\r\n",
        "    return word_len[-1][0], word_len[-1][1]\r\n",
        "result = find_longest_word([\"PHP\", \"Exercises\", \"Backend\"])\r\n",
        "print(\"\\nLongest word: \",result[1])\r\n",
        "print(\"Length of the longest word: \",result[0])"
      ],
      "execution_count": null,
      "outputs": [
        {
          "output_type": "stream",
          "text": [
            "\n",
            "Longest word:  Exercises\n",
            "Length of the longest word:  9\n"
          ],
          "name": "stdout"
        }
      ]
    },
    {
      "cell_type": "code",
      "metadata": {
        "id": "DX91Zpd8jPWF",
        "colab": {
          "base_uri": "https://localhost:8080/"
        },
        "outputId": "a6e2b1c0-f78f-4e7c-95c3-9f505a39ff08"
      },
      "source": [
        "#9\r\n",
        "n=5;\r\n",
        "for i in range(n):\r\n",
        "    for j in range(i):\r\n",
        "        print ('* ', end=\"\")\r\n",
        "    print('')\r\n",
        "\r\n",
        "for i in range(n,0,-1):\r\n",
        "    for j in range(i):\r\n",
        "        print('* ', end=\"\")\r\n",
        "    print('')"
      ],
      "execution_count": null,
      "outputs": [
        {
          "output_type": "stream",
          "text": [
            "\n",
            "* \n",
            "* * \n",
            "* * * \n",
            "* * * * \n",
            "* * * * * \n",
            "* * * * \n",
            "* * * \n",
            "* * \n",
            "* \n"
          ],
          "name": "stdout"
        }
      ]
    },
    {
      "cell_type": "code",
      "metadata": {
        "colab": {
          "base_uri": "https://localhost:8080/"
        },
        "id": "qffvPca5jPZm",
        "outputId": "b9c7b8d8-a9e9-4ee4-90fd-289352c5948a"
      },
      "source": [
        "#10\r\n",
        "def print_factors(x):\r\n",
        "   print(\"The factors of\",x,\"are:\")\r\n",
        "   for i in range(1, x + 1):\r\n",
        "       if x % i == 0:\r\n",
        "           print(i)\r\n",
        "\r\n",
        "num = 300\r\n",
        "\r\n",
        "print_factors(num)"
      ],
      "execution_count": null,
      "outputs": [
        {
          "output_type": "stream",
          "text": [
            "The factors of 300 are:\n",
            "1\n",
            "2\n",
            "3\n",
            "4\n",
            "5\n",
            "6\n",
            "10\n",
            "12\n",
            "15\n",
            "20\n",
            "25\n",
            "30\n",
            "50\n",
            "60\n",
            "75\n",
            "100\n",
            "150\n",
            "300\n"
          ],
          "name": "stdout"
        }
      ]
    },
    {
      "cell_type": "code",
      "metadata": {
        "colab": {
          "base_uri": "https://localhost:8080/"
        },
        "id": "v29HLc-lsw_d",
        "outputId": "299fc5e4-a4f5-4fe5-e404-717d8924e20f"
      },
      "source": [
        "#11\r\n",
        "import math\r\n",
        "\r\n",
        "# A few lamba functions to calculate area and perimeter of common geometric figures\r\n",
        "t_peri = lambda p,q,r : p + q + r\r\n",
        "r_area = lambda len, ht : len*ht\r\n",
        "s_area = lambda a : 2*a\r\n",
        "\r\n",
        "\r\n",
        "# invoke functions and print results.\r\n",
        "print(\"Perimeter of Triangle (10,20,15) is:\", t_peri(10,20,15))\r\n",
        "print(\"Area of Rectangle (30,20) is:\", r_area(30,20))\r\n",
        "print(\"Area of square (5) is:\", s_area(5))"
      ],
      "execution_count": null,
      "outputs": [
        {
          "output_type": "stream",
          "text": [
            "Perimeter of Triangle (10,20,15) is: 45\n",
            "Area of Rectangle (30,20) is: 600\n",
            "Area of square (5) is: 10\n"
          ],
          "name": "stdout"
        }
      ]
    }
  ]
}