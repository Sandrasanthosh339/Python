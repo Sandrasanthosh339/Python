{
  "nbformat": 4,
  "nbformat_minor": 0,
  "metadata": {
    "colab": {
      "name": "Cycle2.ipynb",
      "provenance": []
    },
    "kernelspec": {
      "display_name": "Python 3",
      "name": "python3"
    }
  },
  "cells": [
    {
      "cell_type": "code",
      "metadata": {
        "id": "bGSNIcG_dO0M"
      },
      "source": [
        "def personal_details():\r\n",
        "    name = \"Sandra Santhosh\" \r\n",
        "    address = \"Chollambel(H),Koothattukulam P.O,Koothattukulam,Ernakulam,India\"\r\n",
        "    print(\"\\n Name: {}\\n Address: {}\".format(name, address))\r\n",
        " \r\n",
        "personal_details()\r\n",
        "\r\n"
      ],
      "execution_count": null,
      "outputs": []
    },
    {
      "cell_type": "code",
      "metadata": {
        "id": "xfBchJidn1Cb"
      },
      "source": [
        "#2\r\n",
        "y = int(input(\"enter final leap year\"))\r\n",
        "print(\"future leap year from 2021\")\r\n",
        "for x in range (2021 , y+1):\r\n",
        "  if ((x%4 == 0) and (x%100 != 0)):\r\n",
        "    print(x)"
      ],
      "execution_count": null,
      "outputs": []
    },
    {
      "cell_type": "code",
      "metadata": {
        "id": "2nuQftirn1qg"
      },
      "source": [
        "#3a\r\n",
        "list1 = [-10,11, -21, 20, 45, 66, -93]\r\n",
        "list2 = [x for x in list1 if x>0]\r\n",
        "print(\"list of positive integers:\", list2)\r\n"
      ],
      "execution_count": null,
      "outputs": []
    },
    {
      "cell_type": "code",
      "metadata": {
        "id": "AnjOdocXgZig"
      },
      "source": [
        "#3b\r\n",
        "n = int(input(\"Enter the limit: \"))\r\n",
        "squares = [i*i for i in range (1, n+1) ]\r\n",
        "print(\"Square of the numbers: \", squares)\r\n",
        "\r\n"
      ],
      "execution_count": null,
      "outputs": []
    },
    {
      "cell_type": "code",
      "metadata": {
        "id": "Cw42eoGXgaXQ"
      },
      "source": [
        "#3c\r\n",
        "n1=\"Square of N numbers\"\r\n",
        "vowels =['a','e','i','o','u']\r\n",
        "l1=[]\r\n",
        "for x in n1:\r\n",
        "  if(x in vowels and x not in l1):\r\n",
        "    l1.append(x)\r\n",
        "print(\"vowels present in the given statement\",l1)"
      ],
      "execution_count": null,
      "outputs": []
    },
    {
      "cell_type": "code",
      "metadata": {
        "id": "bkLQrPdkmsBQ"
      },
      "source": [
        "#3d\r\n",
        "n1=input(\"enter a word:\")\r\n",
        "for l in range(len(n1)):\r\n",
        "  print(\"ordinal value of\",n1[l],\"is\",ord(n1[l]))"
      ],
      "execution_count": null,
      "outputs": []
    },
    {
      "cell_type": "code",
      "metadata": {
        "colab": {
          "background_save": true,
          "base_uri": "https://localhost:8080/"
        },
        "id": "0Sb_QsXlr5gJ",
        "outputId": "8083cf15-5380-46df-bc28-f5f67dc59b37"
      },
      "source": [
        "#4\r\n",
        "def wordcount(str):\r\n",
        "  counts = {}\r\n",
        "  words = str .split()\r\n",
        "  for word in words:\r\n",
        "    if word in counts:\r\n",
        "      counts[word] += 1\r\n",
        "    else :\r\n",
        "      counts[word] = 1\r\n",
        "  return counts\r\n",
        "print( wordcount('The quick brown fox jumps over the lazy dog'))"
      ],
      "execution_count": null,
      "outputs": [
        {
          "output_type": "stream",
          "text": [
            "{'the': 2, 'quick': 1, 'brown': 1, 'fox': 1, 'jumps': 1, 'over': 1, 'lazy': 1, 'dog': 1}\n"
          ],
          "name": "stdout"
        }
      ]
    },
    {
      "cell_type": "code",
      "metadata": {
        "id": "5mmSMYmZr5y7",
        "colab": {
          "base_uri": "https://localhost:8080/"
        },
        "outputId": "945b6572-4354-470c-882b-dc6de367e42f"
      },
      "source": [
        "#5\r\n",
        "x=[]\r\n",
        "n=int(input(\"enter any integers :\"))\r\n",
        "for i in range(1,n+1):\r\n",
        "  a=int(input())\r\n",
        "  if (a>100):\r\n",
        "    x.append('over')\r\n",
        "  else:\r\n",
        "    x.append(a)\r\n",
        "print(\"modified list :\" ,x)\r\n",
        "\r\n"
      ],
      "execution_count": null,
      "outputs": [
        {
          "output_type": "stream",
          "text": [
            "enter any integers :5\n",
            "25\n",
            "50\n",
            "75\n",
            "100\n",
            "125\n",
            "modified list : [25, 50, 75, 100, 'over']\n"
          ],
          "name": "stdout"
        }
      ]
    },
    {
      "cell_type": "code",
      "metadata": {
        "id": "FfyZTyX_TF82"
      },
      "source": [
        "#6\r\n",
        "n =input(\"Enter the first names:\")\r\n",
        "list = []\r\n",
        "count = 0\r\n",
        "for x in n:\r\n",
        "  list.append(x)\r\n",
        "  if(x in n and x == 'a'):\r\n",
        "    count = count + 1\r\n",
        "print(count)"
      ],
      "execution_count": null,
      "outputs": []
    },
    {
      "cell_type": "code",
      "metadata": {
        "colab": {
          "base_uri": "https://localhost:8080/"
        },
        "id": "pA0gyrK0YHMG",
        "outputId": "adf73534-c230-400b-8380-cfbaab3348c2"
      },
      "source": [
        "#7a\r\n",
        "list1 = [1, 2, 5, 8, 3]\r\n",
        "list2 = [1, 2, 5, 8, 9]\r\n",
        "print(\"The first list is : \" + str(list1))\r\n",
        "print(\"The second list is :\" + str(list2))\r\n",
        "l1 = len(list1)\r\n",
        "l2 = len(list2)\r\n",
        "print(\"Length of list1 :\", l1 )\r\n",
        "print(\"Length of list2 :\", l2 )\r\n",
        "if l1 == l2 :\r\n",
        "  print(\"The lists are of same length\")\r\n",
        "else :\r\n",
        "  print(\"The lists are of different length\")"
      ],
      "execution_count": null,
      "outputs": [
        {
          "output_type": "stream",
          "text": [
            "The first list is : [1, 2, 5, 8, 3]\n",
            "The second list is :[1, 2, 5, 8, 9]\n",
            "Length of list1 : 5\n",
            "Length of list2 : 5\n",
            "The lists are of same length\n"
          ],
          "name": "stdout"
        }
      ]
    },
    {
      "cell_type": "code",
      "metadata": {
        "colab": {
          "base_uri": "https://localhost:8080/"
        },
        "id": "afzzxCtpb1UE",
        "outputId": "9234377a-4adc-48c9-b323-57c802c27931"
      },
      "source": [
        "#7b\r\n",
        "list1 = [1, 2, 5, 8, 3]\r\n",
        "list2 = [1, 2, 5, 8, 9]\r\n",
        "print(\"The first list is : \" + str(list1))\r\n",
        "print(\"The second list is :\" + str(list2))\r\n",
        "sum1 = 0\r\n",
        "sum2 = 0\r\n",
        "for x in range (0 , len(list1)):\r\n",
        "  sum1 = sum1 + list1[x]\r\n",
        "print(\"sum of all elements in given list1 : \",sum1)\r\n",
        "for x in range (0 ,len(list2)):\r\n",
        "  sum2 = sum2 + list2[x]\r\n",
        "print(\"sum of all elements in given list1 : \",sum2)\r\n",
        "\r\n",
        "if(sum1 == sum2):\r\n",
        "  print(\"Lists sums to same value\")\r\n",
        "else :\r\n",
        "   print(\"Lists sums to different value\")\r\n"
      ],
      "execution_count": null,
      "outputs": [
        {
          "output_type": "stream",
          "text": [
            "The first list is : [1, 2, 5, 8, 3]\n",
            "The second list is :[1, 2, 5, 8, 9]\n",
            "sum of all elements in given list1 :  19\n",
            "sum of all elements in given list1 :  25\n",
            "Lists sums to different value\n"
          ],
          "name": "stdout"
        }
      ]
    },
    {
      "cell_type": "code",
      "metadata": {
        "id": "EbW4Nf82eDXG"
      },
      "source": [
        "#7c\r\n",
        "list1 = [1, 2, 5, 8, 3]\r\n",
        "list2 = [1, 2, 5, 8, 9]\r\n",
        "print(\"The first list is : \" + str(list1))\r\n",
        "print(\"The second list is :\" + str(list2))\r\n",
        "print(\"The values occur in both lists : \")\r\n",
        "for x in list1:\r\n",
        "  if(x in list1 and x in list2):\r\n",
        "    print(x)"
      ],
      "execution_count": null,
      "outputs": []
    },
    {
      "cell_type": "code",
      "metadata": {
        "id": "pQiXwsuySeYS"
      },
      "source": [
        "\r\n"
      ],
      "execution_count": null,
      "outputs": []
    },
    {
      "cell_type": "code",
      "metadata": {
        "id": "b99dUhvoaFCH"
      },
      "source": [
        "def loop_year(year):\r\n",
        "   print(num, end = \" \") \r\n",
        "    x = 0\r\n",
        "    while x < 20:\r\n",
        "        if year % 4 != 0 and year % 400 != 0:\r\n",
        "            year +=1\r\n",
        "            ##print(\"%s is a common year\") %(year)\r\n",
        "        elif year % 100 != 0:\r\n",
        "            year +=1\r\n",
        "            print((\"%s is a leap year\") % (year))\r\n",
        "            x += 1\r\n",
        "\r\n",
        "\r\n",
        "loop_year(2020)    \r\n"
      ],
      "execution_count": null,
      "outputs": []
    },
    {
      "cell_type": "code",
      "metadata": {
        "colab": {
          "base_uri": "https://localhost:8080/"
        },
        "id": "JLUMcs85aFcX",
        "outputId": "de4b04df-457c-47a0-f53d-70e72dc864fd"
      },
      "source": [
        "from math import pi\r\n",
        "r = float(input (\"Input the radius of the circle : \"))\r\n",
        "print (\"The area of the circle : \" + str(pi*r*r))"
      ],
      "execution_count": null,
      "outputs": [
        {
          "output_type": "stream",
          "text": [
            "Input the radius of the circle : 2\n",
            "The area of the circle : 12.566370614359172\n"
          ],
          "name": "stdout"
        }
      ]
    },
    {
      "cell_type": "code",
      "metadata": {
        "id": "dp_MwFK-aFyk"
      },
      "source": [
        "a = float(input(\"Enter first number: \"))\r\n",
        "b = float(input(\"Enter second number: \"))\r\n",
        "c = float(input(\"Enter third number: \"))\r\n",
        " \r\n",
        "if (a > b) and (a > c):\r\n",
        "   largest = a\r\n",
        "elif (b > a) and (b > c):\r\n",
        "   largest = b\r\n",
        "else:\r\n",
        "   largest = c\r\n",
        " \r\n",
        "print(\"The largest number is\",largest)"
      ],
      "execution_count": null,
      "outputs": []
    },
    {
      "cell_type": "code",
      "metadata": {
        "id": "oFNrNmpUaGIj"
      },
      "source": [
        "fname = input(\"Input the Filename: \")\r\n",
        "f_ext = fname.split(\".\")\r\n",
        "print (\"The extension of the file is : \" + repr(f_ext[-1]))\r\n"
      ],
      "execution_count": null,
      "outputs": []
    },
    {
      "cell_type": "code",
      "metadata": {
        "id": "M9lQTupEdIN4"
      },
      "source": [
        ""
      ],
      "execution_count": null,
      "outputs": []
    },
    {
      "cell_type": "code",
      "metadata": {
        "id": "M_BBCAsrSOJd"
      },
      "source": [
        "color_list = []  \r\n",
        "for i in range(5):\r\n",
        "    print(\"Enter value of n[\", i, \"]\")\r\n",
        "    color_list.append(input())\r\n",
        "print(color_list)\r\n",
        "print( \"First Color : %s\"%(color_list[0]))\r\n",
        "print( \"Last Color  : %s\"%(color_list[-1]))"
      ],
      "execution_count": null,
      "outputs": []
    },
    {
      "cell_type": "code",
      "metadata": {
        "id": "lnnsG3M3UW7P"
      },
      "source": [
        "a = int(input(\"Input an integer : \"))\r\n",
        "n1 = int( \"%s\" % a )\r\n",
        "n2 = int( \"%s%s\" % (a,a) )\r\n",
        "n3 = int( \"%s%s%s\" % (a,a,a) )\r\n",
        "print (n1+n2+n3)"
      ],
      "execution_count": null,
      "outputs": []
    },
    {
      "cell_type": "code",
      "metadata": {
        "id": "t-HOMwHiSPGi"
      },
      "source": [
        "color_list_1 = set([\"White\", \"Black\", \"Red\"])\r\n",
        "color_list_2 = set([\"Red\", \"Green\"])\r\n",
        "\r\n",
        "print(color_list_1.difference(color_list_2))"
      ],
      "execution_count": null,
      "outputs": []
    },
    {
      "cell_type": "code",
      "metadata": {
        "colab": {
          "base_uri": "https://localhost:8080/"
        },
        "id": "69fWJG73Q0SM",
        "outputId": "f288527f-5d26-41c5-d686-3cf1683c07a1"
      },
      "source": [
        "c_list_1 = set([\"Yellow\", \"Black\", \"Blue\",\"Red\"])\r\n",
        "c_list_2 = set([\"Red\", \"Green\",\"Blue\"])\r\n",
        "\r\n",
        "print(c_list_1.difference(c_list_2))"
      ],
      "execution_count": null,
      "outputs": [
        {
          "output_type": "stream",
          "text": [
            "{'Yellow', 'Black'}\n"
          ],
          "name": "stdout"
        }
      ]
    },
    {
      "cell_type": "code",
      "metadata": {
        "id": "3Sh_zDDmUUqE"
      },
      "source": [
        ""
      ],
      "execution_count": null,
      "outputs": []
    },
    {
      "cell_type": "code",
      "metadata": {
        "id": "sniDV7F0SHBp"
      },
      "source": [
        "import operator\r\n",
        "d = {1: 2, 3: 4, 4: 3, 2: 1, 0: 0}\r\n",
        "print('Original dictionary : ',d)\r\n",
        "sorted_d = sorted(d.items(), key=operator.itemgetter(1))\r\n",
        "print('Dictionary in ascending order  : ',sorted_d)\r\n",
        "sorted_d = dict( sorted(d.items(), key=operator.itemgetter(1),reverse=True))\r\n",
        "print('Dictionary in descending order  : ',sorted_d)"
      ],
      "execution_count": null,
      "outputs": []
    },
    {
      "cell_type": "code",
      "metadata": {
        "id": "7gBBUjr7OAPU"
      },
      "source": [
        ""
      ],
      "execution_count": null,
      "outputs": []
    },
    {
      "cell_type": "code",
      "metadata": {
        "colab": {
          "base_uri": "https://localhost:8080/"
        },
        "id": "kDEVCYEvQtgP",
        "outputId": "f71766f0-05e8-41eb-b68d-b1c552f017e9"
      },
      "source": [
        "d1 = {'a': 100, 'b': 200}\r\n",
        "d2 = {'x': 300, 'y': 200}\r\n",
        "d = d1.copy()\r\n",
        "d.update(d2)\r\n",
        "print(d)"
      ],
      "execution_count": null,
      "outputs": [
        {
          "output_type": "stream",
          "text": [
            "{'a': 100, 'b': 200, 'x': 300, 'y': 200}\n"
          ],
          "name": "stdout"
        }
      ]
    },
    {
      "cell_type": "code",
      "metadata": {
        "id": "8pTTfeYyKHYA"
      },
      "source": [
        "import math\r\n",
        "a = int(input(\"Enter 1st number: \"))\r\n",
        "b = int(input(\"Enter 2nd number: \"))\r\n",
        "\r\n",
        "c = math.gcd(a,b)\r\n",
        "print(\"GCD is =\",c)\r\n",
        "\r\n"
      ],
      "execution_count": null,
      "outputs": []
    },
    {
      "cell_type": "code",
      "metadata": {
        "id": "LW7qBi9bODIH"
      },
      "source": [
        "list = [11, 22, 33, 44, 55]\r\n",
        "print(\"Original list:\")\r\n",
        "print(list)\r\n",
        "\r\n",
        "for i  in list:\r\n",
        "\tif(i%2 == 0):\r\n",
        "\t    list.remove(i)\r\n",
        "print(\"list after removing EVEN numbers:\")\r\n",
        "print (list)"
      ],
      "execution_count": null,
      "outputs": []
    },
    {
      "cell_type": "code",
      "metadata": {
        "id": "oe_KJHS2oBlp"
      },
      "source": [
        "def ch_swap(a, b):\r\n",
        "  new_a = b[:2] + a[2:]\r\n",
        "  new_b = a[:2] + b[2:]\r\n",
        "\r\n",
        "  return new_a + ' ' + new_b\r\n",
        "print(ch_swap('abc', 'xyz'))"
      ],
      "execution_count": null,
      "outputs": []
    },
    {
      "cell_type": "code",
      "metadata": {
        "id": "wInBhPTvpB03"
      },
      "source": [
        "str = input(\"Enter a string : \")\r\n",
        "new_str = str[-1:] + str[1:-1] + str[:1]\r\n",
        "print(new_str)"
      ],
      "execution_count": null,
      "outputs": []
    },
    {
      "cell_type": "code",
      "metadata": {
        "id": "_i60fQ84p1lx"
      },
      "source": [
        "def change_char(str1):\r\n",
        "  str1 = input(\"Enter a string : \")\r\n",
        "  char = str1[0]\r\n",
        "  str1 = str1.replace(char, '$')\r\n",
        "  str1 = char + str1[1:]\r\n",
        "\r\n",
        "  return str1\r\n",
        "\r\n",
        "print(change_char('str1'))"
      ],
      "execution_count": null,
      "outputs": []
    },
    {
      "cell_type": "code",
      "metadata": {
        "id": "YFqUzVd7r_kM"
      },
      "source": [
        ""
      ],
      "execution_count": null,
      "outputs": []
    }
  ]
}