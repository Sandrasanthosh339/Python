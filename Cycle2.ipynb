{
  "nbformat": 4,
  "nbformat_minor": 0,
  "metadata": {
    "colab": {
      "name": "Cycle2.ipynb",
      "provenance": []
    },
    "kernelspec": {
      "name": "python3",
      "display_name": "Python 3"
    }
  },
  "cells": [
    {
      "cell_type": "code",
      "metadata": {
        "id": "3UN4FCHc_SB7"
      },
      "source": [
        ""
      ],
      "execution_count": null,
      "outputs": []
    },
    {
      "cell_type": "code",
      "metadata": {
        "id": "bGSNIcG_dO0M"
      },
      "source": [
        ""
      ],
      "execution_count": null,
      "outputs": []
    },
    {
      "cell_type": "code",
      "metadata": {
        "id": "b99dUhvoaFCH"
      },
      "source": [
        ""
      ],
      "execution_count": null,
      "outputs": []
    },
    {
      "cell_type": "code",
      "metadata": {
        "colab": {
          "base_uri": "https://localhost:8080/"
        },
        "id": "JLUMcs85aFcX",
        "outputId": "de4b04df-457c-47a0-f53d-70e72dc864fd"
      },
      "source": [
        "from math import pi\r\n",
        "r = float(input (\"Input the radius of the circle : \"))\r\n",
        "print (\"The area of the circle : \" + str(pi*r*r))"
      ],
      "execution_count": null,
      "outputs": [
        {
          "output_type": "stream",
          "text": [
            "Input the radius of the circle : 2\n",
            "The area of the circle : 12.566370614359172\n"
          ],
          "name": "stdout"
        }
      ]
    },
    {
      "cell_type": "code",
      "metadata": {
        "id": "dp_MwFK-aFyk"
      },
      "source": [
        "a = float(input(\"Enter first number: \"))\r\n",
        "b = float(input(\"Enter second number: \"))\r\n",
        "c = float(input(\"Enter third number: \"))\r\n",
        " \r\n",
        "if (a > b) and (a > c):\r\n",
        "   largest = a\r\n",
        "elif (b > a) and (b > c):\r\n",
        "   largest = b\r\n",
        "else:\r\n",
        "   largest = c\r\n",
        " \r\n",
        "print(\"The largest number is\",largest)"
      ],
      "execution_count": null,
      "outputs": []
    },
    {
      "cell_type": "code",
      "metadata": {
        "id": "oFNrNmpUaGIj"
      },
      "source": [
        "fname = input(\"Input the Filename: \")\r\n",
        "f_ext = fname.split(\".\")\r\n",
        "print (\"The extension of the file is : \" + repr(f_ext[-1]))\r\n"
      ],
      "execution_count": null,
      "outputs": []
    },
    {
      "cell_type": "code",
      "metadata": {
        "id": "M9lQTupEdIN4"
      },
      "source": [
        ""
      ],
      "execution_count": null,
      "outputs": []
    },
    {
      "cell_type": "code",
      "metadata": {
        "id": "M_BBCAsrSOJd"
      },
      "source": [
        "color_list = []  \r\n",
        "for i in range(5):\r\n",
        "    print(\"Enter value of n[\", i, \"]\")\r\n",
        "    color_list.append(input())\r\n",
        "print(color_list)\r\n",
        "print( \"First Color : %s\"%(color_list[0]))\r\n",
        "print( \"Last Color  : %s\"%(color_list[-1]))"
      ],
      "execution_count": null,
      "outputs": []
    },
    {
      "cell_type": "code",
      "metadata": {
        "id": "lnnsG3M3UW7P"
      },
      "source": [
        "a = int(input(\"Input an integer : \"))\r\n",
        "n1 = int( \"%s\" % a )\r\n",
        "n2 = int( \"%s%s\" % (a,a) )\r\n",
        "n3 = int( \"%s%s%s\" % (a,a,a) )\r\n",
        "print (n1+n2+n3)"
      ],
      "execution_count": null,
      "outputs": []
    },
    {
      "cell_type": "code",
      "metadata": {
        "id": "t-HOMwHiSPGi"
      },
      "source": [
        "color_list_1 = set([\"White\", \"Black\", \"Red\"])\r\n",
        "color_list_2 = set([\"Red\", \"Green\"])\r\n",
        "\r\n",
        "print(color_list_1.difference(color_list_2))"
      ],
      "execution_count": null,
      "outputs": []
    },
    {
      "cell_type": "code",
      "metadata": {
        "colab": {
          "base_uri": "https://localhost:8080/"
        },
        "id": "69fWJG73Q0SM",
        "outputId": "f288527f-5d26-41c5-d686-3cf1683c07a1"
      },
      "source": [
        "c_list_1 = set([\"Yellow\", \"Black\", \"Blue\",\"Red\"])\r\n",
        "c_list_2 = set([\"Red\", \"Green\",\"Blue\"])\r\n",
        "\r\n",
        "print(c_list_1.difference(c_list_2))"
      ],
      "execution_count": null,
      "outputs": [
        {
          "output_type": "stream",
          "text": [
            "{'Yellow', 'Black'}\n"
          ],
          "name": "stdout"
        }
      ]
    },
    {
      "cell_type": "code",
      "metadata": {
        "id": "3Sh_zDDmUUqE"
      },
      "source": [
        ""
      ],
      "execution_count": null,
      "outputs": []
    },
    {
      "cell_type": "code",
      "metadata": {
        "id": "sniDV7F0SHBp"
      },
      "source": [
        "import operator\r\n",
        "d = {1: 2, 3: 4, 4: 3, 2: 1, 0: 0}\r\n",
        "print('Original dictionary : ',d)\r\n",
        "sorted_d = sorted(d.items(), key=operator.itemgetter(1))\r\n",
        "print('Dictionary in ascending order  : ',sorted_d)\r\n",
        "sorted_d = dict( sorted(d.items(), key=operator.itemgetter(1),reverse=True))\r\n",
        "print('Dictionary in descending order  : ',sorted_d)"
      ],
      "execution_count": null,
      "outputs": []
    },
    {
      "cell_type": "code",
      "metadata": {
        "id": "7gBBUjr7OAPU"
      },
      "source": [
        ""
      ],
      "execution_count": null,
      "outputs": []
    },
    {
      "cell_type": "code",
      "metadata": {
        "colab": {
          "base_uri": "https://localhost:8080/"
        },
        "id": "kDEVCYEvQtgP",
        "outputId": "f71766f0-05e8-41eb-b68d-b1c552f017e9"
      },
      "source": [
        "d1 = {'a': 100, 'b': 200}\r\n",
        "d2 = {'x': 300, 'y': 200}\r\n",
        "d = d1.copy()\r\n",
        "d.update(d2)\r\n",
        "print(d)"
      ],
      "execution_count": null,
      "outputs": [
        {
          "output_type": "stream",
          "text": [
            "{'a': 100, 'b': 200, 'x': 300, 'y': 200}\n"
          ],
          "name": "stdout"
        }
      ]
    },
    {
      "cell_type": "code",
      "metadata": {
        "id": "8pTTfeYyKHYA"
      },
      "source": [
        "import math\r\n",
        "a = int(input(\"Enter 1st number: \"))\r\n",
        "b = int(input(\"Enter 2nd number: \"))\r\n",
        "\r\n",
        "c = math.gcd(a,b)\r\n",
        "print(\"GCD is =\",c)\r\n",
        "\r\n"
      ],
      "execution_count": null,
      "outputs": []
    },
    {
      "cell_type": "code",
      "metadata": {
        "id": "LW7qBi9bODIH"
      },
      "source": [
        "list = [11, 22, 33, 44, 55]\r\n",
        "print(\"Original list:\")\r\n",
        "print(list)\r\n",
        "\r\n",
        "for i  in list:\r\n",
        "\tif(i%2 == 0):\r\n",
        "\t    list.remove(i)\r\n",
        "print(\"list after removing EVEN numbers:\")\r\n",
        "print (list)"
      ],
      "execution_count": null,
      "outputs": []
    },
    {
      "cell_type": "code",
      "metadata": {
        "id": "oe_KJHS2oBlp"
      },
      "source": [
        "def ch_swap(a, b):\r\n",
        "  new_a = b[:2] + a[2:]\r\n",
        "  new_b = a[:2] + b[2:]\r\n",
        "\r\n",
        "  return new_a + ' ' + new_b\r\n",
        "print(ch_swap('abc', 'xyz'))"
      ],
      "execution_count": null,
      "outputs": []
    },
    {
      "cell_type": "code",
      "metadata": {
        "id": "wInBhPTvpB03"
      },
      "source": [
        "str = input(\"Enter a string : \")\r\n",
        "new_str = str[-1:] + str[1:-1] + str[:1]\r\n",
        "print(new_str)"
      ],
      "execution_count": null,
      "outputs": []
    },
    {
      "cell_type": "code",
      "metadata": {
        "id": "_i60fQ84p1lx"
      },
      "source": [
        "def change_char(str1):\r\n",
        "  str1 = input(\"Enter a string : \")\r\n",
        "  char = str1[0]\r\n",
        "  str1 = str1.replace(char, '$')\r\n",
        "  str1 = char + str1[1:]\r\n",
        "\r\n",
        "  return str1\r\n",
        "\r\n",
        "print(change_char('str1'))"
      ],
      "execution_count": null,
      "outputs": []
    },
    {
      "cell_type": "code",
      "metadata": {
        "id": "YFqUzVd7r_kM"
      },
      "source": [
        ""
      ],
      "execution_count": 20,
      "outputs": []
    }
  ]
}